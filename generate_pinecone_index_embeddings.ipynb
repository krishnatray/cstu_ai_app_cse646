{
 "cells": [
  {
   "cell_type": "code",
   "execution_count": 1,
   "id": "5447f19f",
   "metadata": {},
   "outputs": [
    {
     "name": "stdout",
     "output_type": "stream",
     "text": [
      "Requirement already satisfied: pinecone-client in /home/sushil/venv/lib/python3.11/site-packages (3.0.3)\n",
      "Requirement already satisfied: certifi>=2019.11.17 in /home/sushil/venv/lib/python3.11/site-packages (from pinecone-client) (2024.2.2)\n",
      "Requirement already satisfied: tqdm>=4.64.1 in /home/sushil/venv/lib/python3.11/site-packages (from pinecone-client) (4.66.2)\n",
      "Requirement already satisfied: typing-extensions>=3.7.4 in /home/sushil/venv/lib/python3.11/site-packages (from pinecone-client) (4.9.0)\n",
      "Requirement already satisfied: urllib3>=1.26.0 in /home/sushil/venv/lib/python3.11/site-packages (from pinecone-client) (2.2.0)\n",
      "\n",
      "\u001b[1m[\u001b[0m\u001b[34;49mnotice\u001b[0m\u001b[1;39;49m]\u001b[0m\u001b[39;49m A new release of pip is available: \u001b[0m\u001b[31;49m23.2.1\u001b[0m\u001b[39;49m -> \u001b[0m\u001b[32;49m24.0\u001b[0m\n",
      "\u001b[1m[\u001b[0m\u001b[34;49mnotice\u001b[0m\u001b[1;39;49m]\u001b[0m\u001b[39;49m To update, run: \u001b[0m\u001b[32;49mpip install --upgrade pip\u001b[0m\n"
     ]
    }
   ],
   "source": [
    "#!pip install pinecone-client --upgrade\n",
    "\n",
    "from pinecone import "
   ]
  },
  {
   "cell_type": "code",
   "execution_count": 3,
   "id": "87c0dccf",
   "metadata": {},
   "outputs": [
    {
     "name": "stdout",
     "output_type": "stream",
     "text": [
      "Requirement already satisfied: openai in /home/sushil/venv/lib/python3.11/site-packages (1.12.0)\n",
      "Requirement already satisfied: anyio<5,>=3.5.0 in /home/sushil/venv/lib/python3.11/site-packages (from openai) (4.2.0)\n",
      "Requirement already satisfied: distro<2,>=1.7.0 in /home/sushil/venv/lib/python3.11/site-packages (from openai) (1.9.0)\n",
      "Requirement already satisfied: httpx<1,>=0.23.0 in /home/sushil/venv/lib/python3.11/site-packages (from openai) (0.26.0)\n",
      "Requirement already satisfied: pydantic<3,>=1.9.0 in /home/sushil/venv/lib/python3.11/site-packages (from openai) (2.6.1)\n",
      "Requirement already satisfied: sniffio in /home/sushil/venv/lib/python3.11/site-packages (from openai) (1.3.0)\n",
      "Requirement already satisfied: tqdm>4 in /home/sushil/venv/lib/python3.11/site-packages (from openai) (4.66.2)\n",
      "Requirement already satisfied: typing-extensions<5,>=4.7 in /home/sushil/venv/lib/python3.11/site-packages (from openai) (4.9.0)\n",
      "Requirement already satisfied: idna>=2.8 in /home/sushil/venv/lib/python3.11/site-packages (from anyio<5,>=3.5.0->openai) (3.6)\n",
      "Requirement already satisfied: certifi in /home/sushil/venv/lib/python3.11/site-packages (from httpx<1,>=0.23.0->openai) (2024.2.2)\n",
      "Requirement already satisfied: httpcore==1.* in /home/sushil/venv/lib/python3.11/site-packages (from httpx<1,>=0.23.0->openai) (1.0.3)\n",
      "Requirement already satisfied: h11<0.15,>=0.13 in /home/sushil/venv/lib/python3.11/site-packages (from httpcore==1.*->httpx<1,>=0.23.0->openai) (0.14.0)\n",
      "Requirement already satisfied: annotated-types>=0.4.0 in /home/sushil/venv/lib/python3.11/site-packages (from pydantic<3,>=1.9.0->openai) (0.6.0)\n",
      "Requirement already satisfied: pydantic-core==2.16.2 in /home/sushil/venv/lib/python3.11/site-packages (from pydantic<3,>=1.9.0->openai) (2.16.2)\n",
      "\n",
      "\u001b[1m[\u001b[0m\u001b[34;49mnotice\u001b[0m\u001b[1;39;49m]\u001b[0m\u001b[39;49m A new release of pip is available: \u001b[0m\u001b[31;49m23.2.1\u001b[0m\u001b[39;49m -> \u001b[0m\u001b[32;49m24.0\u001b[0m\n",
      "\u001b[1m[\u001b[0m\u001b[34;49mnotice\u001b[0m\u001b[1;39;49m]\u001b[0m\u001b[39;49m To update, run: \u001b[0m\u001b[32;49mpip install --upgrade pip\u001b[0m\n",
      "Requirement already satisfied: python-dotenv in /home/sushil/venv/lib/python3.11/site-packages (1.0.1)\n",
      "\n",
      "\u001b[1m[\u001b[0m\u001b[34;49mnotice\u001b[0m\u001b[1;39;49m]\u001b[0m\u001b[39;49m A new release of pip is available: \u001b[0m\u001b[31;49m23.2.1\u001b[0m\u001b[39;49m -> \u001b[0m\u001b[32;49m24.0\u001b[0m\n",
      "\u001b[1m[\u001b[0m\u001b[34;49mnotice\u001b[0m\u001b[1;39;49m]\u001b[0m\u001b[39;49m To update, run: \u001b[0m\u001b[32;49mpip install --upgrade pip\u001b[0m\n"
     ]
    }
   ],
   "source": [
    "\n",
    "!pip install openai\n",
    "!pip install python-dotenv\n",
    "# !pip3 install pinecone-client\n",
    "# !pip install PyPDF2\n",
    "import dotenv\n",
    "import openai\n",
    "from PyPDF2 import PdfReader\n",
    "import re\n",
    "import os\n",
    "import json\n",
    "from dotenv import load_dotenv\n",
    "load_dotenv()\n",
    "pinecone_api_key = os.getenv(\"PINECONE_API_KEY\")\n",
    "openai.api_key = os.getenv(\"OPENAI_API_KEY\")\n",
    "embed_model = \"text-embedding-ada-002\"\n",
    "index_name = 'cstugpt-kb'"
   ]
  },
  {
   "cell_type": "code",
   "execution_count": 4,
   "id": "06826bb7",
   "metadata": {},
   "outputs": [
    {
     "ename": "ModuleNotFoundError",
     "evalue": "No module named 'pinecone'",
     "output_type": "error",
     "traceback": [
      "\u001b[0;31m---------------------------------------------------------------------------\u001b[0m",
      "\u001b[0;31mModuleNotFoundError\u001b[0m                       Traceback (most recent call last)",
      "Cell \u001b[0;32mIn[4], line 1\u001b[0m\n\u001b[0;32m----> 1\u001b[0m \u001b[38;5;28;01mfrom\u001b[39;00m \u001b[38;5;21;01mpinecone\u001b[39;00m \u001b[38;5;28;01mimport\u001b[39;00m Pinecone, ServerlessSpec\n\u001b[1;32m      3\u001b[0m pc \u001b[38;5;241m=\u001b[39m Pinecone(\n\u001b[1;32m      4\u001b[0m     api_key\u001b[38;5;241m=\u001b[39mos\u001b[38;5;241m.\u001b[39menviron\u001b[38;5;241m.\u001b[39mget(\u001b[38;5;124m\"\u001b[39m\u001b[38;5;124mPINECONE_API_KEY\u001b[39m\u001b[38;5;124m\"\u001b[39m),\n\u001b[1;32m      5\u001b[0m     environment\u001b[38;5;241m=\u001b[39m\u001b[38;5;124m\"\u001b[39m\u001b[38;5;124masia-southeast1-gcp-free\u001b[39m\u001b[38;5;124m\"\u001b[39m \n\u001b[1;32m      6\u001b[0m )\n",
      "\u001b[0;31mModuleNotFoundError\u001b[0m: No module named 'pinecone'"
     ]
    }
   ],
   "source": [
    "from pinecone import Pinecone, ServerlessSpec\n",
    "\n",
    "pc = Pinecone(\n",
    "    api_key=os.environ.get(\"PINECONE_API_KEY\"),\n",
    "    environment=\"asia-southeast1-gcp-free\" \n",
    ")"
   ]
  },
  {
   "cell_type": "code",
   "execution_count": 4,
   "id": "a80b4a5c",
   "metadata": {},
   "outputs": [
    {
     "ename": "NameError",
     "evalue": "name 'pinecone' is not defined",
     "output_type": "error",
     "traceback": [
      "\u001b[0;31m---------------------------------------------------------------------------\u001b[0m",
      "\u001b[0;31mNameError\u001b[0m                                 Traceback (most recent call last)",
      "Cell \u001b[0;32mIn[4], line 2\u001b[0m\n\u001b[1;32m      1\u001b[0m \u001b[38;5;66;03m# initialize connection to pinecone (get API key at app.pinecone.io)\u001b[39;00m\n\u001b[0;32m----> 2\u001b[0m pinecone\u001b[38;5;241m.\u001b[39minit(\n\u001b[1;32m      3\u001b[0m     api_key\u001b[38;5;241m=\u001b[39mpinecone_api_key,\n\u001b[1;32m      4\u001b[0m     environment\u001b[38;5;241m=\u001b[39m\u001b[38;5;124m\"\u001b[39m\u001b[38;5;124masia-southeast1-gcp-free\u001b[39m\u001b[38;5;124m\"\u001b[39m \u001b[38;5;66;03m# The environment value could be found at Pinecone website, once created\u001b[39;00m\n\u001b[1;32m      5\u001b[0m )\n\u001b[1;32m      6\u001b[0m index \u001b[38;5;241m=\u001b[39m pinecone\u001b[38;5;241m.\u001b[39mIndex(index_name)\n\u001b[1;32m      7\u001b[0m \u001b[38;5;28;01mdef\u001b[39;00m \u001b[38;5;21mmls_upsert\u001b[39m(cstu_file, index_name, name_space, cstu_id, chunk_size, stride):\n\u001b[1;32m      8\u001b[0m    \u001b[38;5;66;03m# create a reader object\u001b[39;00m\n",
      "\u001b[0;31mNameError\u001b[0m: name 'pinecone' is not defined"
     ]
    }
   ],
   "source": [
    "\n",
    "\n",
    "# Now do stuff\n",
    "if 'my_index' not in pc.list_indexes().names():\n",
    "    pc.create_index(\n",
    "        name='my_index',\n",
    "        dimension=1536,\n",
    "        metric='euclidean',\n",
    "        spec=ServerlessSpec(\n",
    "            cloud='aws',\n",
    "            region='us-west-2'\n",
    "        )\n",
    "    )\n",
    "\n",
    "# # initialize connection to pinecone (get API key at app.pinecone.io)\n",
    "# pinecone.init(\n",
    "#     api_key=pinecone_api_key,\n",
    "#     environment=\"asia-southeast1-gcp-free\" # The environment value could be found at Pinecone website, once created\n",
    "# )\n",
    "# index = pinecone.Index(index_name)\n",
    "\n",
    "\n",
    "\n",
    "\n",
    "\n",
    "def mls_upsert(cstu_file, index_name, name_space, cstu_id, chunk_size, stride):\n",
    "   # create a reader object\n",
    "    print(\"Knowledge base file name:\", cstu_file)\n",
    "    reader = PdfReader(cstu_file)\n",
    "    page_len = len(reader.pages)\n",
    "    print(\"length of the knowledge base file:\", page_len)\n",
    "    doc = \"\"\n",
    "    for i in range(page_len):\n",
    "        doc += reader.pages[i].extract_text()\n",
    "        print(\"page completed:\", i)\n",
    "    doc = doc.splitlines()\n",
    "    print(\"The total lines: \", len(doc))\n",
    "\n",
    "    #Connect to Pinecone index\n",
    "    index = pinecone.Index(index_name)\n",
    "    count = 0\n",
    "    for i in range(0, len(doc), chunk_size):#The loop iterates over the document in steps of chunk_size\n",
    "        #find begining and end of the chunk\n",
    "        i_begin = max(0, i-stride)\n",
    "        i_end = min(len(doc), i_begin+chunk_size)\n",
    "        doc_chunk = doc[i_begin:i_end]\n",
    "        print(\"-------------------------------------------------------------\")\n",
    "        print(\"The \", i//chunk_size + 1, \" doc chunk text:\", doc_chunk)\n",
    "        texts = \"\"\n",
    "        for x in doc_chunk:\n",
    "            texts += x\n",
    "        print(\"Texts:\", texts)\n",
    "\n",
    "        #Create embeddings of the chunk texts\n",
    "        try:\n",
    "            res = openai.Embedding.create(input=texts, engine=embed_model)\n",
    "        except:\n",
    "            done = False\n",
    "            while not done:\n",
    "                sleep(5)\n",
    "                try:\n",
    "                    res = openai.Embedding.create(input=texts, engine=embed_model)\n",
    "                    done = True\n",
    "                except:\n",
    "                    pass\n",
    "        embed = res['data'][0]['embedding']\n",
    "        print(\"Embeds length:\", len(embed))\n",
    "\n",
    "        # Meta data preparation\n",
    "        metadata = {\n",
    "            \"cstu_id\": cstu_id + '_' + str(count),\n",
    "            \"text\": texts\n",
    "        }\n",
    "        count += 1\n",
    "        print(\"Upserted vector count is: \", count)\n",
    "        print(\"==========================================================\")\n",
    "\n",
    "        #upsert to pinecone and corresponding namespace\n",
    "        index.upsert(vectors=[(metadata[\"cstu_id\"], embed, metadata)], namespace=name_space)"
   ]
  },
  {
   "cell_type": "code",
   "execution_count": null,
   "id": "b4cdd195",
   "metadata": {},
   "outputs": [],
   "source": [
    "mls_upsert(r\"cstugpt_kb.pdf\", \"cstugpt-kb\", \"cstu\",\"cstu-kb\", 8, 1)\n",
    "#mls_upsert(r\"cstugpt_qa.pdf\", \"cstugpt-kb\", \"cstu\",\"cstu-qa\", 3, 1)\n",
    "\n",
    "index.describe_index_stats()"
   ]
  }
 ],
 "metadata": {
  "kernelspec": {
   "display_name": "venv",
   "language": "python",
   "name": "venv"
  },
  "language_info": {
   "codemirror_mode": {
    "name": "ipython",
    "version": 3
   },
   "file_extension": ".py",
   "mimetype": "text/x-python",
   "name": "python",
   "nbconvert_exporter": "python",
   "pygments_lexer": "ipython3",
   "version": "3.11.5"
  }
 },
 "nbformat": 4,
 "nbformat_minor": 5
}
